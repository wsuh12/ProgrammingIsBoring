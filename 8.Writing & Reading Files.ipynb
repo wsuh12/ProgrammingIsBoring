{
 "cells": [
  {
   "cell_type": "code",
   "execution_count": 15,
   "metadata": {
    "collapsed": true
   },
   "outputs": [],
   "source": [
    "f = open(\"counties.txt\",\"r\") #assumes the txt file is in the same directory"
   ]
  },
  {
   "cell_type": "code",
   "execution_count": 16,
   "metadata": {
    "collapsed": false
   },
   "outputs": [
    {
     "name": "stdout",
     "output_type": "stream",
     "text": [
      "London\n",
      "Bedfordshire\n",
      "Buckinghamshire\n",
      "Cambridgeshire\n",
      "Cheshire\n",
      "Cornwall and Isles of Scilly\n",
      "Cumbria\n",
      "Derbyshire\n",
      "Devon\n",
      "Dorset\n",
      "Durham\n",
      "East Sussex\n",
      "Essex\n",
      "Gloucestershire\n",
      "Greater London\n",
      "Greater Manchester\n",
      "Hampshire\n",
      "Hertfordshire\n",
      "Kent\n",
      "Lancashire\n",
      "Leicestershire\n",
      "Lincolnshire\n",
      "Merseyside\n",
      "Norfolk\n",
      "North Yorkshire\n",
      "Northamptonshire\n",
      "Northumberland\n",
      "Nottinghamshire\n",
      "Oxfordshire\n",
      "Shropshire\n",
      "Somerset\n",
      "South Yorkshire\n",
      "Staffordshire\n",
      "Suffolk\n",
      "Surrey\n",
      "Tyne and Wear\n",
      "Warwickshire\n",
      "West Midlands\n",
      "West Sussex\n",
      "West Yorkshire\n",
      "Wiltshire\n",
      "Worcestershire\n",
      "Flintshire\n",
      "Glamorgan\n",
      "Merionethshire\n",
      "Monmouthshire\n",
      "Montgomeryshire\n",
      "Pembrokeshire\n",
      "Radnorshire\n",
      "Anglesey\n",
      "Breconshire\n",
      "Caernarvonshire\n",
      "Cardiganshire\n",
      "Carmarthenshire\n",
      "Denbighshire\n",
      "Kirkcudbrightshire\n",
      "Lanarkshire\n",
      "Midlothian\n",
      "Moray\n",
      "Nairnshire\n",
      "Orkney\n",
      "Peebleshire\n",
      "Perthshire\n",
      "Renfrewshire\n",
      "Ross & Cromarty\n",
      "Roxburghshire\n",
      "Selkirkshire\n",
      "Shetland\n",
      "Stirlingshire\n",
      "Sutherland\n",
      "West Lothian\n",
      "Wigtownshire\n",
      "Aberdeenshire\n",
      "Angus\n",
      "Argyll\n",
      "Ayrshire\n",
      "Banffshire\n",
      "Berwickshire\n",
      "Bute\n",
      "Caithness\n",
      "Clackmannanshire\n",
      "Dumfriesshire\n",
      "Dumbartonshire\n",
      "East Lothian\n",
      "Fife\n",
      "Inverness\n",
      "Kincardineshire\n",
      "Kinross-shire\n"
     ]
    }
   ],
   "source": [
    "for line in f:\n",
    "    line = line.strip() # remove the empty spaces\n",
    "    print(line) #prints the counties\n",
    "    \n",
    "f.close()"
   ]
  },
  {
   "cell_type": "code",
   "execution_count": 21,
   "metadata": {
    "collapsed": true
   },
   "outputs": [],
   "source": [
    "# lets create a list and append the counties\n",
    "f = open(\"counties.txt\",\"r\")"
   ]
  },
  {
   "cell_type": "code",
   "execution_count": 22,
   "metadata": {
    "collapsed": true
   },
   "outputs": [],
   "source": [
    "counties = [] #empty list"
   ]
  },
  {
   "cell_type": "code",
   "execution_count": 23,
   "metadata": {
    "collapsed": false
   },
   "outputs": [],
   "source": [
    "for line in f:\n",
    "    line = line.strip()\n",
    "    counties.append(line)\n",
    "f.close()"
   ]
  },
  {
   "cell_type": "code",
   "execution_count": 24,
   "metadata": {
    "collapsed": false
   },
   "outputs": [
    {
     "name": "stdout",
     "output_type": "stream",
     "text": [
      "['London', 'Bedfordshire', 'Buckinghamshire', 'Cambridgeshire', 'Cheshire', 'Cornwall and Isles of Scilly', 'Cumbria', 'Derbyshire', 'Devon', 'Dorset', 'Durham', 'East Sussex', 'Essex', 'Gloucestershire', 'Greater London', 'Greater Manchester', 'Hampshire', 'Hertfordshire', 'Kent', 'Lancashire', 'Leicestershire', 'Lincolnshire', 'Merseyside', 'Norfolk', 'North Yorkshire', 'Northamptonshire', 'Northumberland', 'Nottinghamshire', 'Oxfordshire', 'Shropshire', 'Somerset', 'South Yorkshire', 'Staffordshire', 'Suffolk', 'Surrey', 'Tyne and Wear', 'Warwickshire', 'West Midlands', 'West Sussex', 'West Yorkshire', 'Wiltshire', 'Worcestershire', 'Flintshire', 'Glamorgan', 'Merionethshire', 'Monmouthshire', 'Montgomeryshire', 'Pembrokeshire', 'Radnorshire', 'Anglesey', 'Breconshire', 'Caernarvonshire', 'Cardiganshire', 'Carmarthenshire', 'Denbighshire', 'Kirkcudbrightshire', 'Lanarkshire', 'Midlothian', 'Moray', 'Nairnshire', 'Orkney', 'Peebleshire', 'Perthshire', 'Renfrewshire', 'Ross & Cromarty', 'Roxburghshire', 'Selkirkshire', 'Shetland', 'Stirlingshire', 'Sutherland', 'West Lothian', 'Wigtownshire', 'Aberdeenshire', 'Angus', 'Argyll', 'Ayrshire', 'Banffshire', 'Berwickshire', 'Bute', 'Caithness', 'Clackmannanshire', 'Dumfriesshire', 'Dumbartonshire', 'East Lothian', 'Fife', 'Inverness', 'Kincardineshire', 'Kinross-shire']\n"
     ]
    }
   ],
   "source": [
    "print(counties)"
   ]
  },
  {
   "cell_type": "code",
   "execution_count": 25,
   "metadata": {
    "collapsed": false
   },
   "outputs": [
    {
     "name": "stdout",
     "output_type": "stream",
     "text": [
      "88\n"
     ]
    }
   ],
   "source": [
    "print(len(counties)) # how many counties?"
   ]
  },
  {
   "cell_type": "code",
   "execution_count": 26,
   "metadata": {
    "collapsed": true
   },
   "outputs": [],
   "source": [
    "# How many counties start with letter \"S\"?\n"
   ]
  },
  {
   "cell_type": "code",
   "execution_count": 27,
   "metadata": {
    "collapsed": false
   },
   "outputs": [
    {
     "name": "stdout",
     "output_type": "stream",
     "text": [
      "Shropshire\n",
      "Somerset\n",
      "South Yorkshire\n",
      "Staffordshire\n",
      "Suffolk\n",
      "Surrey\n",
      "Selkirkshire\n",
      "Shetland\n",
      "Stirlingshire\n",
      "Sutherland\n"
     ]
    }
   ],
   "source": [
    "for county in counties:\n",
    "    if county[0] == \"S\":\n",
    "        print(county)"
   ]
  },
  {
   "cell_type": "code",
   "execution_count": null,
   "metadata": {
    "collapsed": true
   },
   "outputs": [],
   "source": []
  }
 ],
 "metadata": {
  "kernelspec": {
   "display_name": "Python 3",
   "language": "python",
   "name": "python3"
  },
  "language_info": {
   "codemirror_mode": {
    "name": "ipython",
    "version": 3
   },
   "file_extension": ".py",
   "mimetype": "text/x-python",
   "name": "python",
   "nbconvert_exporter": "python",
   "pygments_lexer": "ipython3",
   "version": "3.5.1"
  }
 },
 "nbformat": 4,
 "nbformat_minor": 0
}
