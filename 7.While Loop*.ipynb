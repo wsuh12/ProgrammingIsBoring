{
 "cells": [
  {
   "cell_type": "markdown",
   "metadata": {},
   "source": [
    "**Another type of loop which iterates until some conditions \n",
    "are met"
   ]
  },
  {
   "cell_type": "code",
   "execution_count": 5,
   "metadata": {
    "collapsed": false
   },
   "outputs": [
    {
     "name": "stdout",
     "output_type": "stream",
     "text": [
      "Hello 0\n",
      "Hello 1\n",
      "Hello 2\n",
      "Hello 3\n",
      "Hello 4\n"
     ]
    }
   ],
   "source": [
    "counter = 0\n",
    "while counter <5:\n",
    "    print(\"Hello \"+ str(counter))\n",
    "    counter = counter +1"
   ]
  },
  {
   "cell_type": "markdown",
   "metadata": {},
   "source": [
    "**\"Break\" statement breaks out of loop \n",
    "\"Continue\" statement skips the remainder of the current loop,\n",
    "going to the next iteration"
   ]
  },
  {
   "cell_type": "code",
   "execution_count": 3,
   "metadata": {
    "collapsed": false
   },
   "outputs": [
    {
     "name": "stdout",
     "output_type": "stream",
     "text": [
      "Hello 0\n",
      "Hello 1\n",
      "Hello 2\n",
      "Hello 3\n",
      "Hello 4\n"
     ]
    }
   ],
   "source": [
    "counter = 0\n",
    "while True:\n",
    "    print(\"Hello \"+ str(counter))\n",
    "    counter = counter +1\n",
    "    \n",
    "    if counter >= 5:\n",
    "        break"
   ]
  },
  {
   "cell_type": "code",
   "execution_count": 6,
   "metadata": {
    "collapsed": false
   },
   "outputs": [
    {
     "name": "stdout",
     "output_type": "stream",
     "text": [
      "hello!\n",
      ">adad\n",
      "adad\n",
      ">hggv\n",
      "hggv\n",
      ">tytf\n",
      "tytf\n",
      ">mlml\n",
      "mlml\n",
      ">ers\n",
      "ers\n",
      ">knk\n",
      "knk\n",
      ">ressuc\n",
      "ressuc\n",
      ">hello\n",
      "hello\n",
      ">quit\n",
      "goodbye!\n"
     ]
    }
   ],
   "source": [
    "print(\"hello!\")\n",
    "\n",
    "while True:\n",
    "    user_input = input(\">\")\n",
    "    if user_input == \"quit\":\n",
    "        print(\"goodbye!\")\n",
    "        break\n",
    "    else:\n",
    "        print(user_input)"
   ]
  },
  {
   "cell_type": "code",
   "execution_count": 1,
   "metadata": {
    "collapsed": false
   },
   "outputs": [
    {
     "name": "stdout",
     "output_type": "stream",
     "text": [
      "Please type your name.\n",
      "won \n",
      "Please type your name.\n",
      "jack\n",
      "Please type your name.\n",
      "exit\n",
      "Thank you!\n"
     ]
    }
   ],
   "source": [
    "name = \"\"\n",
    "while name != 'exit':\n",
    "    print(\"Please type your name.\")\n",
    "    name = input()\n",
    "print('Thank you!')\n"
   ]
  },
  {
   "cell_type": "code",
   "execution_count": 7,
   "metadata": {
    "collapsed": false
   },
   "outputs": [
    {
     "name": "stdout",
     "output_type": "stream",
     "text": [
      "Please type your name.\n",
      "exit\n",
      "Goodbye!\n"
     ]
    }
   ],
   "source": [
    "while True:\n",
    "    print(\"Please type your name.\")\n",
    "    name = input()\n",
    "    if name == \"exit\":\n",
    "        break\n",
    "print(\"Goodbye!\")"
   ]
  },
  {
   "cell_type": "code",
   "execution_count": null,
   "metadata": {
    "collapsed": false
   },
   "outputs": [
    {
     "name": "stdout",
     "output_type": "stream",
     "text": [
      "> Type your Name\n",
      "won\n",
      "> Type your Name\n",
      "Won\n",
      "Welcome, %. Type Password. Won\n"
     ]
    }
   ],
   "source": [
    "while True:\n",
    "    print(\"> Type your Name\")\n",
    "    name = input()\n",
    "    if name == \"won\":\n",
    "        continue\n",
    "    print(\"Welcome, %. Type Password.\",name)\n",
    "    password = input()\n",
    "    if password in [\"password\",\"default\"]:\n",
    "        break\n",
    "  \n",
    "        \n",
    "print(\"Access Granted\")"
   ]
  },
  {
   "cell_type": "code",
   "execution_count": 9,
   "metadata": {
    "collapsed": true
   },
   "outputs": [],
   "source": [
    "import sys"
   ]
  },
  {
   "cell_type": "code",
   "execution_count": 13,
   "metadata": {
    "collapsed": false
   },
   "outputs": [
    {
     "name": "stdout",
     "output_type": "stream",
     "text": [
      "Type exit to exit\n",
      "exit\n"
     ]
    },
    {
     "ename": "SystemExit",
     "evalue": "",
     "output_type": "error",
     "traceback": [
      "An exception has occurred, use %tb to see the full traceback.\n",
      "\u001b[0;31mSystemExit\u001b[0m\n"
     ]
    },
    {
     "name": "stderr",
     "output_type": "stream",
     "text": [
      "To exit: use 'exit', 'quit', or Ctrl-D.\n"
     ]
    }
   ],
   "source": [
    "while True:\n",
    "    print(\"Type exit to exit\")\n",
    "    response = input()\n",
    "    if response == \"exit\":\n",
    "        sys.exit()\n",
    "    print(\"You typed\" + reponse + \".\")    "
   ]
  },
  {
   "cell_type": "code",
   "execution_count": null,
   "metadata": {
    "collapsed": true
   },
   "outputs": [],
   "source": []
  },
  {
   "cell_type": "code",
   "execution_count": null,
   "metadata": {
    "collapsed": true
   },
   "outputs": [],
   "source": []
  }
 ],
 "metadata": {
  "kernelspec": {
   "display_name": "Python 3",
   "language": "python",
   "name": "python3"
  },
  "language_info": {
   "codemirror_mode": {
    "name": "ipython",
    "version": 3
   },
   "file_extension": ".py",
   "mimetype": "text/x-python",
   "name": "python",
   "nbconvert_exporter": "python",
   "pygments_lexer": "ipython3",
   "version": "3.5.1"
  }
 },
 "nbformat": 4,
 "nbformat_minor": 0
}
