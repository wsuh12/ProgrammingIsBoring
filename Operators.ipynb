{
 "cells": [
  {
   "cell_type": "markdown",
   "metadata": {
    "collapsed": true
   },
   "source": [
    "# Arithmetic Operations"
   ]
  },
  {
   "cell_type": "markdown",
   "metadata": {},
   "source": [
    "**Operator     Name         Description"
   ]
  },
  {
   "cell_type": "markdown",
   "metadata": {},
   "source": [
    "a + b      addition       sum of a and b"
   ]
  },
  {
   "cell_type": "markdown",
   "metadata": {},
   "source": [
    "a - b   Subtraction       difference of a and b"
   ]
  },
  {
   "cell_type": "markdown",
   "metadata": {},
   "source": [
    "a * b   Multiplication    product of a and b"
   ]
  },
  {
   "cell_type": "markdown",
   "metadata": {},
   "source": [
    "a / b   True Division     quotient of a and b"
   ]
  },
  {
   "cell_type": "markdown",
   "metadata": {},
   "source": [
    "a // b  Floor Division    quotient of a and b, removing fractional parts"
   ]
  },
  {
   "cell_type": "markdown",
   "metadata": {},
   "source": [
    "a % b   Modulus           Integer remainder after divison of a by b"
   ]
  },
  {
   "cell_type": "markdown",
   "metadata": {},
   "source": [
    "a ** b  Exponentiation    a raised to the power of b"
   ]
  },
  {
   "cell_type": "code",
   "execution_count": null,
   "metadata": {
    "collapsed": true
   },
   "outputs": [],
   "source": [
    "- a     Negation          Negative of a"
   ]
  },
  {
   "cell_type": "code",
   "execution_count": null,
   "metadata": {
    "collapsed": true
   },
   "outputs": [],
   "source": []
  },
  {
   "cell_type": "markdown",
   "metadata": {},
   "source": [
    "a == b   a equal to b"
   ]
  },
  {
   "cell_type": "markdown",
   "metadata": {},
   "source": [
    "a < b    a less than b "
   ]
  },
  {
   "cell_type": "markdown",
   "metadata": {},
   "source": [
    "a <= b   a less than or equal to b"
   ]
  },
  {
   "cell_type": "markdown",
   "metadata": {},
   "source": [
    "a != b   a not equal to b "
   ]
  },
  {
   "cell_type": "markdown",
   "metadata": {},
   "source": [
    "a > b    a greater than b"
   ]
  },
  {
   "cell_type": "markdown",
   "metadata": {},
   "source": [
    "a >= b   a greater or equal to b"
   ]
  },
  {
   "cell_type": "code",
   "execution_count": null,
   "metadata": {
    "collapsed": true
   },
   "outputs": [],
   "source": []
  }
 ],
 "metadata": {
  "kernelspec": {
   "display_name": "Python 3",
   "language": "python",
   "name": "python3"
  },
  "language_info": {
   "codemirror_mode": {
    "name": "ipython",
    "version": 3
   },
   "file_extension": ".py",
   "mimetype": "text/x-python",
   "name": "python",
   "nbconvert_exporter": "python",
   "pygments_lexer": "ipython3",
   "version": "3.5.1"
  }
 },
 "nbformat": 4,
 "nbformat_minor": 0
}
